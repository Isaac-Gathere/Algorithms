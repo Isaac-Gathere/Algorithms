{
  "cells": [
    {
      "cell_type": "markdown",
      "metadata": {
        "id": "view-in-github",
        "colab_type": "text"
      },
      "source": [
        "<a href=\"https://colab.research.google.com/github/Isaac-Gathere/Algorithms/blob/master/jupyter_intro.ipynb\" target=\"_parent\"><img src=\"https://colab.research.google.com/assets/colab-badge.svg\" alt=\"Open In Colab\"/></a>"
      ]
    },
    {
      "cell_type": "code",
      "execution_count": 1,
      "id": "a31bed21",
      "metadata": {
        "colab": {
          "base_uri": "https://localhost:8080/",
          "height": 17
        },
        "id": "a31bed21",
        "outputId": "bb8d94e5-4736-46e0-a240-f4137a40d8c5"
      },
      "outputs": [
        {
          "output_type": "display_data",
          "data": {
            "text/plain": [
              "<IPython.core.display.HTML object>"
            ],
            "text/html": [
              "<style>\n",
              "table {float:left}\n",
              "</style>\n"
            ]
          },
          "metadata": {}
        }
      ],
      "source": [
        "%%html\n",
        "<style>\n",
        "table {float:left}\n",
        "</style>"
      ]
    },
    {
      "cell_type": "markdown",
      "id": "27056027",
      "metadata": {
        "id": "27056027"
      },
      "source": [
        "<p style=\"color:Blue; font-size: 30px; font-weight: bold\"> Introduction to Jupyter Notebook </p>\n",
        "\n",
        "\n",
        "The Jupyter Notebook serves as an open-source web application that enables the creation and sharing of documents containing live code, equations, visualizations, and textual content.\n",
        "\n",
        "Some key features of Jupyter Notebook include:\n",
        "\n",
        "* it provides an interactive environment where you can write and execute code in cells,\n",
        "* it allows you to combine documentation (formatted text using Markdown), code and visualizations\n",
        "* it allows you to execute code cells individually, or all code cells at once\n",
        "* it supports the integration of various data visualization libraries, making it simple to create charts, graphs, and plots directly within your documents.\n",
        "* it allows to embed images, videos, and other media to your notebooks.\n",
        "* it allows easy notebook Sharing in a number of platforms, such as GitHub."
      ]
    },
    {
      "cell_type": "markdown",
      "id": "4ecaa9f0",
      "metadata": {
        "id": "4ecaa9f0"
      },
      "source": [
        "\n",
        "# Jupyter Notebook Shortcuts\n",
        "General shortcuts\n",
        "* `Shift + Enter` run the current cell, select the cell below\n",
        "* `Ctrl + Enter` run selected cells\n",
        "* `Alt + Enter` run the current cell, insert a cell below\n",
        "* `Ctrl + S` save and checkpoint\n",
        "\n",
        "Shortcuts while in command mode (press `Esc` to activate):\n",
        "* `Enter` take you into edit mode\n",
        "* `H` show all shortcuts\n",
        "* `Up` select cell above\n",
        "* `Down` select cell below\n",
        "* `Shift + Up` extend selected cells above\n",
        "* `Shift + Down` extend selected cells below\n",
        "* `A` insert cell above\n",
        "* `B` insert cell below\n",
        "* `X` cut selected cells\n",
        "* `C` copy selected cells\n",
        "* `V` paste cells below\n",
        "* `Shift + V` paste cells above\n",
        "* `D, D` (press the key twice) delete selected cells\n",
        "* `Z` undo cell deletion\n",
        "* `S` Save and Checkpoint\n",
        "* `Y` change the cell type to Code\n",
        "* `M` change the cell type to Markdown\n",
        "\n",
        "Shortcuts while in edit mode (press `Enter` to activate):\n",
        "* `Esc` take you into command mode\n",
        "* `Tab` code completion or indent\n",
        "* `Ctrl + ]` right indent\n",
        "* `Ctrl + [` left dedent\n",
        "* `Ctrl + A` select all\n",
        "* `Ctrl + Z` undo\n",
        "* `Ctrl + Shift + Z` or `Ctrl + Y` redo\n",
        "* `Ctrl + Home` go to cell start\n",
        "* `Ctrl + End` go to cell end\n",
        "\n",
        "For more Jupter notebook shortcuts, visit: https://towardsdatascience.com/jypyter-notebook-shortcuts-bf0101a98330"
      ]
    },
    {
      "cell_type": "markdown",
      "id": "9d9fc7a5",
      "metadata": {
        "id": "9d9fc7a5"
      },
      "source": [
        "# Jupiter Text Cells\n",
        "Text cells are formatted using a language called Markdown. To format Markdown cells use the following:\n",
        "\n",
        "## Headings\n",
        "Use the number sign (#) followed by a blank space for notebook titles and section headings (# Header 1, ## Header 2, ### Header 3, #### Header 4):\n",
        "* # Header 1\n",
        "* ## Header 2\n",
        "* ### Header 3\n",
        "* #### Header 4\n",
        "\n",
        "## Text Emphisis\n",
        "\n",
        "### Bold\n",
        "Enclose the text between double stars (**TEST**) or two underscores (__TEST__) to bold text:\n",
        "* **This is a bold text (double star)**  \n",
        "* __ This is a bold text (double dash)__\n",
        "\n",
        "### Italic\n",
        "Enclose the text between single stars (*TEST*) or single underscores (_TEST_) to italicise text.\n",
        "* *This is italic text (one star)*  \n",
        "* _This is italic text (one dash)_\n",
        "\n",
        "### Bold and Italic\n",
        "Enclose the text between three stars (***TEST***) or three underscores (___TEST___) to italicise text and bold text.\n",
        "* ***This is bold text***  \n",
        "* ___This is bold text___\n",
        "\n",
        "### Ordered List\n",
        "To create an ordered list, use a number followed by a period in (1. Test1, 2. Test2, ... , etc.). Be sure use a new line for every item.\n",
        "1. Item 1\n",
        "2. Item 2\n",
        "3. Item 3\n",
        "\n",
        "### Unordered List\n",
        "To create an unordered list, use a star followed by a blank space (* Test1, * Test2, ... , etc.). Be sure use a new line for every item.\n",
        "* Item 1\n",
        "* Item 2\n",
        "* Item 3\n",
        "\n",
        "For more information on Markdown formats, visit: https://medium.com/analytics-vidhya/the-ultimate-markdown-guide-for-jupyter-notebook-d5e5abf728fd\n"
      ]
    },
    {
      "cell_type": "markdown",
      "id": "ebedbd5e",
      "metadata": {
        "id": "ebedbd5e"
      },
      "source": [
        "<p style=\"color:Blue; font-size: 30px; font-weight: bold\"> Introduction to Programming with Python </p>"
      ]
    },
    {
      "cell_type": "markdown",
      "id": "c033cad2",
      "metadata": {
        "id": "c033cad2"
      },
      "source": [
        "Python is a popular programming language created by Guido van Rossum in 1989. In recent years Python has become the go-to programming language in academia due to its great libraries and frameworks in areas of **Artificial Intelligence**, **Machine Learning**, **Deep Learning**, and **Data Science**\n"
      ]
    },
    {
      "cell_type": "markdown",
      "id": "4ca7aeca",
      "metadata": {
        "id": "4ca7aeca"
      },
      "source": [
        "# Python Variables\n",
        "Variables are containers for storing data values. Python has no command for declaring a variable. A variable is created the moment you first assign a value to it. Variables do not need to be declared with any particular `type`and must folloow the folowing rules:\n",
        "* A variable name **must start** with a **letter** or the **underscore** character\n",
        "* A variable name **cannot start with a number**\n",
        "* A variable name can **only contain alpha-numeric characters** and underscores (A-z, 0-9, and _ )\n",
        "* Variable names are **case-sensitive** (age, Age and AGE are three different variables)"
      ]
    },
    {
      "cell_type": "code",
      "execution_count": null,
      "id": "1e3b7eb8",
      "metadata": {
        "ExecuteTime": {
          "end_time": "2024-09-04T13:30:08.332853Z",
          "start_time": "2024-09-04T13:30:08.320282Z"
        },
        "id": "1e3b7eb8"
      },
      "outputs": [],
      "source": [
        "x = 5\n",
        "taxRate = 0.13\n",
        "firstName = \"Amin\"\n",
        "lastName = 'Ibrahim'\n",
        "\n",
        "d = f = g = 99\n",
        "a, b, c = 100, 200, 300"
      ]
    },
    {
      "cell_type": "code",
      "execution_count": null,
      "id": "cf929bd2",
      "metadata": {
        "ExecuteTime": {
          "end_time": "2024-09-04T13:30:20.491616Z",
          "start_time": "2024-09-04T13:30:20.470322Z"
        },
        "id": "cf929bd2"
      },
      "outputs": [],
      "source": [
        "lastName"
      ]
    },
    {
      "cell_type": "markdown",
      "id": "a4eaff93",
      "metadata": {
        "id": "a4eaff93"
      },
      "source": [
        "# Python Data Types\n",
        "Python has the following built-in data types:\n",
        "\n",
        "* Text Type: \t`str`\n",
        "* Numeric Types: \t`int`, `float`, `complex`\n",
        "* Sequence Types: \t`list`, `tuple`, `range`\n",
        "* Mapping Type: \t`dict`\n",
        "* Set Types: \t`set`, `frozenset`\n",
        "* Boolean Type: \t`bool`\n",
        "* Binary Types: \t`bytes`, `bytearray`, `memoryview`\n",
        "* None Type: \t`NoneType`"
      ]
    },
    {
      "cell_type": "markdown",
      "id": "7989aa74",
      "metadata": {
        "id": "7989aa74"
      },
      "source": [
        "Whenever in doubt, you can get the data type of a variable using the `type()` function."
      ]
    },
    {
      "cell_type": "code",
      "execution_count": null,
      "id": "bb511ef5",
      "metadata": {
        "ExecuteTime": {
          "end_time": "2024-09-04T13:38:31.436181Z",
          "start_time": "2024-09-04T13:38:31.421637Z"
        },
        "id": "bb511ef5"
      },
      "outputs": [],
      "source": [
        "x  = 1234567\n",
        "type(x)"
      ]
    },
    {
      "cell_type": "code",
      "execution_count": null,
      "id": "f41bd304",
      "metadata": {
        "scrolled": true,
        "id": "f41bd304"
      },
      "outputs": [],
      "source": [
        "type(taxRate)"
      ]
    },
    {
      "cell_type": "markdown",
      "id": "f5c77a88",
      "metadata": {
        "id": "f5c77a88"
      },
      "source": [
        "# Python Type Casting\n",
        "Type Casting is the method to convert the variable data type into a certain data type in order to the operation required to be performed by users.\n",
        "\n",
        "* `int()` - constructs an integer number from an integer literal, a float literal (by removing all decimals), or a string literal (providing the string represents a whole number)\n",
        "* `float()` - constructs a float number from an integer literal, a float literal or a string literal (providing the string represents a float or an integer)\n",
        "* `str()` - constructs a string from a wide variety of data types, including strings, integer literals and float literals"
      ]
    },
    {
      "cell_type": "code",
      "execution_count": null,
      "id": "4655da6b",
      "metadata": {
        "ExecuteTime": {
          "end_time": "2024-09-04T13:53:04.613152Z",
          "start_time": "2024-09-04T13:53:04.597800Z"
        },
        "id": "4655da6b"
      },
      "outputs": [],
      "source": [
        "a = int(\"2\")    # converting string to int - a will be 2\n",
        "b = int(3.95)   # converting float to int - b will be 3\n",
        "c = str(100)    # converting int to string - c will be \"100\"\n",
        "d = float(2)    # converting int to float - d will be 2.0"
      ]
    },
    {
      "cell_type": "markdown",
      "id": "e62123a5",
      "metadata": {
        "id": "e62123a5"
      },
      "source": [
        "# Python Comments\n",
        "In programming, comments can be used to explain your code. In Python, we use `#` character to add comments within our code. You can also use a short key to comment one or more lines of code using `ctrl + /`."
      ]
    },
    {
      "cell_type": "code",
      "execution_count": null,
      "id": "9bdbf543",
      "metadata": {
        "ExecuteTime": {
          "end_time": "2024-09-04T13:54:14.112632Z",
          "start_time": "2024-09-04T13:54:14.095914Z"
        },
        "id": "9bdbf543"
      },
      "outputs": [],
      "source": [
        "# Here is a single line comment"
      ]
    },
    {
      "cell_type": "markdown",
      "id": "0e0675a7",
      "metadata": {
        "id": "0e0675a7"
      },
      "source": [
        "# Python Operators\n",
        "In Python, we have the following operator groups:\n",
        "* **Arithmetic operators**\n",
        "* **Assignment operators**\n",
        "* **Comparison operators**\n",
        "* **Logical operators**\n",
        "* Identity operators\n",
        "* Membership operators\n",
        "* Bitwise operators\n",
        "\n",
        "## Arithmetic operators\n",
        "|Operator|Name           |Example     |\n",
        "| :-:    | :-            | :-         |\n",
        "|+ \t     |Addition       |10 + 5 = 15 |\n",
        "|- \t     |Subtraction    |10 - 5 = 5  |\n",
        "|* \t     |Multiplication |2 * 5 = 10  |\n",
        "|/ \t     |Division       |2 / 4 = 0.5 |\n",
        "|% \t     |Modulus        |10 % 3 = 1  |\n",
        "|**      |Exponentiation |2 ** 3 = 8  |\n",
        "|//      |Floor division |12 // 5 = 2 |\n",
        "\n",
        "**NOTE:** In python the `^` operator is used to XOR two (binary) numbers."
      ]
    },
    {
      "cell_type": "code",
      "execution_count": null,
      "id": "6965200a",
      "metadata": {
        "id": "6965200a"
      },
      "outputs": [],
      "source": [
        "10 + 5"
      ]
    },
    {
      "cell_type": "code",
      "execution_count": null,
      "id": "8082be31",
      "metadata": {
        "id": "8082be31"
      },
      "outputs": [],
      "source": [
        "10 - 5"
      ]
    },
    {
      "cell_type": "code",
      "execution_count": null,
      "id": "015fde76",
      "metadata": {
        "id": "015fde76"
      },
      "outputs": [],
      "source": [
        "2 * 5"
      ]
    },
    {
      "cell_type": "code",
      "execution_count": null,
      "id": "53dbcce2",
      "metadata": {
        "id": "53dbcce2"
      },
      "outputs": [],
      "source": [
        "2 / 4"
      ]
    },
    {
      "cell_type": "code",
      "execution_count": null,
      "id": "81fbc582",
      "metadata": {
        "id": "81fbc582"
      },
      "outputs": [],
      "source": [
        "9 % 3"
      ]
    },
    {
      "cell_type": "code",
      "execution_count": null,
      "id": "0dc3f518",
      "metadata": {
        "id": "0dc3f518"
      },
      "outputs": [],
      "source": [
        "2 ** 3"
      ]
    },
    {
      "cell_type": "code",
      "execution_count": null,
      "id": "c0519646",
      "metadata": {
        "ExecuteTime": {
          "end_time": "2024-09-04T14:00:49.018714Z",
          "start_time": "2024-09-04T14:00:49.001961Z"
        },
        "id": "c0519646"
      },
      "outputs": [],
      "source": [
        "15 // 7"
      ]
    },
    {
      "cell_type": "markdown",
      "id": "18ae8ec4",
      "metadata": {
        "id": "18ae8ec4"
      },
      "source": [
        "When more than one operator appears in an expression, Python uses the same **order of precedence** as **mathematical conventions**. To specify the order in which operations are performed, you can use parentheses `(` and `)`."
      ]
    },
    {
      "cell_type": "code",
      "execution_count": null,
      "id": "a30ecfd5",
      "metadata": {
        "ExecuteTime": {
          "end_time": "2024-09-04T14:02:13.660336Z",
          "start_time": "2024-09-04T14:02:13.653239Z"
        },
        "id": "a30ecfd5"
      },
      "outputs": [],
      "source": [
        "5+5*2"
      ]
    },
    {
      "cell_type": "code",
      "execution_count": null,
      "id": "03daeaa3",
      "metadata": {
        "id": "03daeaa3"
      },
      "outputs": [],
      "source": [
        "(5+5)*2"
      ]
    },
    {
      "cell_type": "markdown",
      "id": "d1c78907",
      "metadata": {
        "id": "d1c78907"
      },
      "source": [
        "## Assignment operators\n",
        "Let x = 5\n",
        "\n",
        "|Operator |Example   |Same As     |Output|\n",
        "| :-:     | :-       | :-         | -:   |\n",
        "|= \t      |x = 5     |x = 5       |5     |\n",
        "|+=       |x += 2    |x = x + 2   |7     |\n",
        "|-=       |x -= 2    |x = x - 2   |3     |\n",
        "|/=       |x /= 2    |x = x / 2   |2.5   |\n",
        "|%=       |x %= 2    |x = x % 2   |1     |\n",
        "|**=      |x **= 2   |x = x ** 2  |25    |\n",
        "|//=      |x //= 2   |x = x // 2  |1     |"
      ]
    },
    {
      "cell_type": "code",
      "execution_count": null,
      "id": "6574315c",
      "metadata": {
        "ExecuteTime": {
          "end_time": "2024-09-04T14:03:28.108602Z",
          "start_time": "2024-09-04T14:03:28.099898Z"
        },
        "id": "6574315c"
      },
      "outputs": [],
      "source": [
        "x = 5\n",
        "x += 2 # equivalent to x = x+2\n",
        "x"
      ]
    },
    {
      "cell_type": "code",
      "execution_count": null,
      "id": "b163cfab",
      "metadata": {
        "id": "b163cfab"
      },
      "outputs": [],
      "source": [
        "x = 5\n",
        "x -= 2 # equivalent to x = x-2\n",
        "x"
      ]
    },
    {
      "cell_type": "code",
      "execution_count": null,
      "id": "d931188d",
      "metadata": {
        "id": "d931188d"
      },
      "outputs": [],
      "source": [
        "x = 5\n",
        "x *= 2 # equivalent to x = x*2\n",
        "x"
      ]
    },
    {
      "cell_type": "code",
      "execution_count": null,
      "id": "2693eae6",
      "metadata": {
        "id": "2693eae6"
      },
      "outputs": [],
      "source": [
        "x = 5\n",
        "x /= 2 # equivalent to x = x/2\n",
        "x"
      ]
    },
    {
      "cell_type": "code",
      "execution_count": null,
      "id": "b83d17c9",
      "metadata": {
        "id": "b83d17c9"
      },
      "outputs": [],
      "source": [
        "x = 5\n",
        "x %= 2 # equivalent to x = x%2\n",
        "x"
      ]
    },
    {
      "cell_type": "code",
      "execution_count": null,
      "id": "63990d4c",
      "metadata": {
        "id": "63990d4c"
      },
      "outputs": [],
      "source": [
        "x = 5\n",
        "x **= 2 # equivalent to x = x**2\n",
        "x"
      ]
    },
    {
      "cell_type": "code",
      "execution_count": null,
      "id": "7e2a151d",
      "metadata": {
        "id": "7e2a151d"
      },
      "outputs": [],
      "source": [
        "x = 5\n",
        "x //= 2 # equivalent to x = x//2\n",
        "x"
      ]
    },
    {
      "cell_type": "markdown",
      "id": "3417aa7c",
      "metadata": {
        "id": "3417aa7c"
      },
      "source": [
        "## Comparison Operators\n",
        "Comparison operators are used to compare two values.\n",
        "\n",
        "|Operator|Name                     |Example     |Output     |\n",
        "| :-:    | :-                      | :-         | :-        |\n",
        "|== \t |Equal to                 |3 == 5      | False     |\n",
        "|!= \t |Not equal to             |3 != 5      | True      |\n",
        "|> \t     |Greater than             |3 > 5       | False\t    |\n",
        "|< \t     |Less than                |3 < 5       | True\t    |\n",
        "|>= \t |Greater than or equal to |3 >= 5      | False\t    |\n",
        "|<=      |Less than or equal to    |3 <= 5      | True\t    |"
      ]
    },
    {
      "cell_type": "code",
      "execution_count": null,
      "id": "64fe41a4",
      "metadata": {
        "id": "64fe41a4"
      },
      "outputs": [],
      "source": [
        "num1 = 3\n",
        "num2 = 5\n",
        "num1 == num2"
      ]
    },
    {
      "cell_type": "code",
      "execution_count": null,
      "id": "424990ca",
      "metadata": {
        "id": "424990ca"
      },
      "outputs": [],
      "source": [
        "num1 != num2"
      ]
    },
    {
      "cell_type": "code",
      "execution_count": null,
      "id": "a1d77de3",
      "metadata": {
        "id": "a1d77de3"
      },
      "outputs": [],
      "source": [
        "num1 > num2"
      ]
    },
    {
      "cell_type": "code",
      "execution_count": null,
      "id": "258b73c7",
      "metadata": {
        "id": "258b73c7"
      },
      "outputs": [],
      "source": [
        "num1 < num2"
      ]
    },
    {
      "cell_type": "code",
      "execution_count": null,
      "id": "33823a0e",
      "metadata": {
        "id": "33823a0e"
      },
      "outputs": [],
      "source": [
        "num1 >= num2"
      ]
    },
    {
      "cell_type": "code",
      "execution_count": null,
      "id": "ceb727ca",
      "metadata": {
        "id": "ceb727ca"
      },
      "outputs": [],
      "source": [
        "num2 <= num2"
      ]
    },
    {
      "cell_type": "markdown",
      "id": "668230fb",
      "metadata": {
        "id": "668230fb"
      },
      "source": [
        "## Logical Operators\n",
        "Logical operators are used to combine conditional statements.\n",
        "\n",
        "Let x = 3 and y = 5\n",
        "\n",
        "|Operator|Description                                             |Example                |Output     |\n",
        "| :-:    | :-                                                     | :-                    | :-        |\n",
        "|and \t |Returns True if both statements are true                |x < 10 and y > 2       | True      |\n",
        "|or\t     |Returns True if one of the statements is true           |x < 10 or y > 2        | True      |\n",
        "|not \t |Reverse the result, returns False if the result is true | not(x < 10 and y > 2) | False\t  |\n",
        "\n"
      ]
    },
    {
      "cell_type": "code",
      "execution_count": null,
      "id": "4fc5cee9",
      "metadata": {
        "id": "4fc5cee9"
      },
      "outputs": [],
      "source": [
        "x = 3\n",
        "y = 5\n",
        "x < 10 and y < 2 # true and false = false"
      ]
    },
    {
      "cell_type": "code",
      "execution_count": null,
      "id": "84022971",
      "metadata": {
        "id": "84022971"
      },
      "outputs": [],
      "source": [
        "x < 10 or y < 2 # true or false = true"
      ]
    },
    {
      "cell_type": "code",
      "execution_count": null,
      "id": "0ebf2c3f",
      "metadata": {
        "id": "0ebf2c3f"
      },
      "outputs": [],
      "source": [
        "not(x < 10 and y > 2)"
      ]
    },
    {
      "cell_type": "markdown",
      "id": "06a54f47",
      "metadata": {
        "id": "06a54f47"
      },
      "source": [
        "**Example:** Write a simple program to calculate the sum of the digits in a three-digit number."
      ]
    },
    {
      "cell_type": "code",
      "execution_count": null,
      "id": "3cfe204c",
      "metadata": {
        "id": "3cfe204c"
      },
      "outputs": [],
      "source": [
        "num = 123\n",
        "d1 = num // 100             # Get the first digit\n",
        "d2 = (num - d1*100) // 10   # Get the second digit\n",
        "d3 = num % 10               # Get the third digit. You can also do d3 = num - d1*100 - d2*10\n",
        "total = d1 + d2 + d3\n",
        "total"
      ]
    },
    {
      "cell_type": "markdown",
      "id": "fbdcecb1",
      "metadata": {
        "id": "fbdcecb1"
      },
      "source": [
        "# Strings\n",
        "\n",
        "In Python, strings are a sequence of characters used to represent **text**. Strings in Python are **immutable**, meaning once they are created, their content cannot be changed. Strings in python are enclosed in either **single quotation** marks (`'`), or **double quotation** marks (`\"`)."
      ]
    },
    {
      "cell_type": "code",
      "execution_count": null,
      "id": "d2481e1b",
      "metadata": {
        "id": "d2481e1b"
      },
      "outputs": [],
      "source": [
        "firstName1 = \"Amin\"  # is the same as firstName1 = 'Amin'"
      ]
    },
    {
      "cell_type": "code",
      "execution_count": null,
      "id": "28c715c4",
      "metadata": {
        "id": "28c715c4"
      },
      "outputs": [],
      "source": [
        "firstName2 = 'Amin'"
      ]
    },
    {
      "cell_type": "markdown",
      "id": "bd278099",
      "metadata": {
        "id": "bd278099"
      },
      "source": [
        "You can dispaly/print the contents of your variables using the `print` function."
      ]
    },
    {
      "cell_type": "code",
      "execution_count": null,
      "id": "4afa98c3",
      "metadata": {
        "id": "4afa98c3"
      },
      "outputs": [],
      "source": [
        "print(\"Hello,\",firstName1)"
      ]
    },
    {
      "cell_type": "code",
      "execution_count": null,
      "id": "9cfac05d",
      "metadata": {
        "id": "9cfac05d"
      },
      "outputs": [],
      "source": [
        "print(\"Hello,\",firstName2)"
      ]
    },
    {
      "cell_type": "markdown",
      "id": "5f0b719c",
      "metadata": {
        "id": "5f0b719c"
      },
      "source": [
        "You can assign a **multiline string** to a variable by using three single quotes (`'''`) or three double quotes (`\"\"\"`)."
      ]
    },
    {
      "cell_type": "code",
      "execution_count": null,
      "id": "70fce3a5",
      "metadata": {
        "ExecuteTime": {
          "end_time": "2024-09-04T17:12:28.332717Z",
          "start_time": "2024-09-04T17:12:28.312737Z"
        },
        "id": "70fce3a5"
      },
      "outputs": [],
      "source": [
        "text = \"\"\"Welcome to MBAI 5300U.\n",
        "This is an Introduction to Programming and Data Processing course!!!\"\"\"\n",
        "print(text)"
      ]
    },
    {
      "cell_type": "markdown",
      "id": "0d55200c",
      "metadata": {
        "id": "0d55200c"
      },
      "source": [
        "Strings in Python are **arrays of characters**. **Square brackets** (`[]`)can be used to access elements of the string.\n",
        "**NOTE:** Array indexing starts with **0**."
      ]
    },
    {
      "cell_type": "code",
      "execution_count": null,
      "id": "b4adbfe8",
      "metadata": {
        "id": "b4adbfe8"
      },
      "outputs": [],
      "source": [
        "print(text[3]) # it prints the fourth character"
      ]
    },
    {
      "cell_type": "markdown",
      "id": "64d090c4",
      "metadata": {
        "id": "64d090c4"
      },
      "source": [
        "You can also use the **slice syntax** (`[start of the index : end of the index]`) to return a range of characters."
      ]
    },
    {
      "cell_type": "code",
      "execution_count": null,
      "id": "f21706fa",
      "metadata": {
        "id": "f21706fa"
      },
      "outputs": [],
      "source": [
        "print(text[3:12]) # returns characters from position 3 to position 11 (12 is not included)"
      ]
    },
    {
      "cell_type": "code",
      "execution_count": null,
      "id": "531dd5f9",
      "metadata": {
        "id": "531dd5f9"
      },
      "outputs": [],
      "source": [
        "print(text[:12]) # returns characters from the start position to position 11 (12 is not included)"
      ]
    },
    {
      "cell_type": "code",
      "execution_count": null,
      "id": "9db53686",
      "metadata": {
        "id": "9db53686"
      },
      "outputs": [],
      "source": [
        "print(text[3:]) # returns characters from position 3 to the end position"
      ]
    },
    {
      "cell_type": "code",
      "execution_count": null,
      "id": "1319ca4f",
      "metadata": {
        "id": "1319ca4f"
      },
      "outputs": [],
      "source": [
        "print(text[-3:]) # returns the last 3 characters (negative index to is used to count from the end of a sequene)"
      ]
    },
    {
      "cell_type": "markdown",
      "id": "0b39864c",
      "metadata": {
        "id": "0b39864c"
      },
      "source": [
        "You can use the `len` function to determine the length of a sequence."
      ]
    },
    {
      "cell_type": "code",
      "execution_count": null,
      "id": "ce6b35e1",
      "metadata": {
        "id": "ce6b35e1",
        "outputId": "881829f1-baa2-4290-a4f5-6463666c9741"
      },
      "outputs": [
        {
          "name": "stdout",
          "output_type": "stream",
          "text": [
            "4\n"
          ]
        }
      ],
      "source": [
        "name = \"Amin\"\n",
        "print(len(name))"
      ]
    },
    {
      "cell_type": "markdown",
      "id": "0ed9aa52",
      "metadata": {
        "id": "0ed9aa52"
      },
      "source": [
        "To concatenate, or **combine**, two or more strings you can use the `+` operator."
      ]
    },
    {
      "cell_type": "code",
      "execution_count": null,
      "id": "12d8aaf3",
      "metadata": {
        "id": "12d8aaf3"
      },
      "outputs": [],
      "source": [
        "text1 = \"Hello\"\n",
        "text2 = \"Amin!\"\n",
        "text3 = text1 + \" to \" + text2  # Note we added the space character to separate the two strings\n",
        "print(text3)"
      ]
    },
    {
      "cell_type": "markdown",
      "id": "107d5061",
      "metadata": {
        "id": "107d5061"
      },
      "source": [
        "## String Methods\n",
        "Python provides a set of **built-in** methods for strings, which you can access using the dot (`.`) operator. Some of these methods include:\n",
        "\n",
        "For more string methods, visit https://www.w3schools.com/python/python_strings_methods.asp\n",
        "\n",
        "|Method               |Description                                                        |\n",
        "| :-                  | :-                                                                |\n",
        "|capitalize() \t      |\tConverts the first character to upper case                        |\n",
        "|casefold() \t      | Converts string into lower case                                   |\n",
        "|format() \t          | Formats specified values in a string                              |\n",
        "|isnumeric() \t      | Returns True if all characters in the string are numeric          |\n",
        "|split() \t          | Splits the string at the specified separator, and returns a list  |\n",
        "|strip() \t          | Returns a trimmed version of the string                           |\n",
        "|upper() \t          | Converts a string into upper case                                 |"
      ]
    },
    {
      "cell_type": "code",
      "execution_count": null,
      "id": "7883f346",
      "metadata": {
        "id": "7883f346"
      },
      "outputs": [],
      "source": [
        "text = \"hello Amin\"\n",
        "print(text.capitalize()) #Converts the first character to upper case"
      ]
    },
    {
      "cell_type": "code",
      "execution_count": null,
      "id": "1767086c",
      "metadata": {
        "id": "1767086c"
      },
      "outputs": [],
      "source": [
        "text = \"Hello Amin\"\n",
        "print(text.casefold()) #Converts the text string into lower case"
      ]
    },
    {
      "cell_type": "code",
      "execution_count": null,
      "id": "809f0491",
      "metadata": {
        "id": "809f0491"
      },
      "outputs": [],
      "source": [
        "text = \"Hello Amin\"\n",
        "print(text.upper()) #Converts the text string into upper case"
      ]
    },
    {
      "cell_type": "code",
      "execution_count": null,
      "id": "ae3157af",
      "metadata": {
        "ExecuteTime": {
          "end_time": "2024-09-04T17:22:08.480120Z",
          "start_time": "2024-09-04T17:22:08.467192Z"
        },
        "id": "ae3157af"
      },
      "outputs": [],
      "source": [
        "text = \"      hello Amin      \"\n",
        "print(text.strip()) #Returns a trimmed version of the text string"
      ]
    },
    {
      "cell_type": "code",
      "execution_count": null,
      "id": "138d385b",
      "metadata": {
        "scrolled": true,
        "id": "138d385b"
      },
      "outputs": [],
      "source": [
        "text = \"123\"\n",
        "print(text.isnumeric()) #Returns True if all characters in the string are numeric"
      ]
    },
    {
      "cell_type": "markdown",
      "id": "c1587491",
      "metadata": {
        "id": "c1587491"
      },
      "source": [
        "**NOTE:** The `isnumeric()` methdod would return `False` if any of the characters are not numeric. E.g., the `isnumeric()` method on `text = 123.4` would return `False`"
      ]
    },
    {
      "cell_type": "code",
      "execution_count": null,
      "id": "a316b02f",
      "metadata": {
        "id": "a316b02f"
      },
      "outputs": [],
      "source": [
        "text = \"123.4\"\n",
        "print(text.isnumeric())"
      ]
    },
    {
      "cell_type": "code",
      "execution_count": null,
      "id": "5ad97fb7",
      "metadata": {
        "ExecuteTime": {
          "end_time": "2024-09-04T17:23:21.653813Z",
          "start_time": "2024-09-04T17:23:21.643877Z"
        },
        "id": "5ad97fb7"
      },
      "outputs": [],
      "source": [
        "text = \"Amin Ibrahim\"\n",
        "print(text.split(' ')) #Splits the string at the specified separator, and returns a list"
      ]
    },
    {
      "cell_type": "markdown",
      "id": "9f67bc1b",
      "metadata": {
        "id": "9f67bc1b"
      },
      "source": [
        "## Format Strings and Numbers\n",
        "In Python, you can transform numbers and strings into different formats using either the built-in `format()` function or the string method `str.format()`.\n",
        "\n",
        "|Method         |Description                                               |\n",
        "| :-            | :-                                                       |\n",
        "|<, ^, >        |Left-align, center, right-align                           |\n",
        "|+              |Leading sign prefix                                       |\n",
        "|,,_            |Separate numbers as a thousands with comma or underscore  |\n",
        "|b, o, x, X     |Binary, octal, hexadecimal, HEXADECIMAL                   |\n",
        "|f, F           |Fixed-point notation                                      |\n",
        "|e, E           |Scientific notation                                       |\n",
        "|%              |Percentage                                                |\n"
      ]
    },
    {
      "cell_type": "code",
      "execution_count": null,
      "id": "05440ebe",
      "metadata": {
        "ExecuteTime": {
          "end_time": "2024-09-04T17:56:48.688845Z",
          "start_time": "2024-09-04T17:56:48.667854Z"
        },
        "id": "05440ebe"
      },
      "outputs": [],
      "source": [
        "print(\"left  : {:#<15}\".format(\"Amin\"))\n",
        "print(\"center: {:#^15}\".format(\"Amin\"))\n",
        "print(\"right : {:#>15}\".format(\"Amin\"))"
      ]
    },
    {
      "cell_type": "code",
      "execution_count": null,
      "id": "5a52d130",
      "metadata": {
        "ExecuteTime": {
          "end_time": "2024-09-04T17:47:38.040161Z",
          "start_time": "2024-09-04T17:47:38.025341Z"
        },
        "scrolled": true,
        "id": "5a52d130"
      },
      "outputs": [],
      "source": [
        "print(\"Positive Number  : {:+}\".format(123))\n",
        "print(\"Negative Number  : {:+}\".format(-123))"
      ]
    },
    {
      "cell_type": "code",
      "execution_count": null,
      "id": "44e700f7",
      "metadata": {
        "id": "44e700f7"
      },
      "outputs": [],
      "source": [
        "print(\"Comma Separator  : {:,}\".format(123456789))\n",
        "print(\"Negative Number  : {:_}\".format(123456789))"
      ]
    },
    {
      "cell_type": "code",
      "execution_count": null,
      "id": "d8e203e2",
      "metadata": {
        "id": "d8e203e2"
      },
      "outputs": [],
      "source": [
        "print(\"Binary       : {:b}\".format(31))\n",
        "print(\"Octal        : {:o}\".format(31))\n",
        "print(\"hexadecimal  : {:x}\".format(31))\n",
        "print(\"HEXADECIMAL  : {:X}\".format(31))"
      ]
    },
    {
      "cell_type": "code",
      "execution_count": null,
      "id": "8acd3de6",
      "metadata": {
        "scrolled": true,
        "id": "8acd3de6"
      },
      "outputs": [],
      "source": [
        "print(\"Two decimal Points   : {:.2f}\".format(123.456))\n",
        "print(\"Two decimal Points   : {:.1F}\".format(123.456))"
      ]
    },
    {
      "cell_type": "code",
      "execution_count": null,
      "id": "afe9f74d",
      "metadata": {
        "id": "afe9f74d"
      },
      "outputs": [],
      "source": [
        "print(\"Scientific notation  : {:e}\".format(123456))\n",
        "print(\"Scientific notation  : {:E}\".format(123456))\n",
        "print(\"Scientific notation with fixed-point : {:.3e}\".format(123456))"
      ]
    },
    {
      "cell_type": "code",
      "execution_count": null,
      "id": "cd72d9aa",
      "metadata": {
        "id": "cd72d9aa"
      },
      "outputs": [],
      "source": [
        "print(\"Percenatge                  : {:%}\".format(0.5554))\n",
        "print(\"Percentage with fixed-point : {:.2%}\".format(0.5554))"
      ]
    },
    {
      "cell_type": "code",
      "execution_count": null,
      "id": "ed773f6c",
      "metadata": {
        "ExecuteTime": {
          "end_time": "2024-09-04T18:04:46.583970Z",
          "start_time": "2024-09-04T18:04:46.580211Z"
        },
        "id": "ed773f6c"
      },
      "outputs": [],
      "source": [
        "# Formating price price to two decimal places with $ symbol\n",
        "text = \"The total price is ${price:.2f} dollars!\"\n",
        "print(text.format(price = 105.2364))  # formats the price to two decimal places"
      ]
    },
    {
      "cell_type": "markdown",
      "id": "e4107e2f",
      "metadata": {
        "id": "e4107e2f"
      },
      "source": [
        "# Lists\n",
        "\n",
        "Lists in Python are powerful data structure used to store **multiple items** in a **single variable**. Lists are created using square brackets (`[]`) and they are **ordered**, **changeable**, and allow **duplicate** values.\n"
      ]
    },
    {
      "cell_type": "code",
      "execution_count": null,
      "id": "1a98dc7e",
      "metadata": {
        "ExecuteTime": {
          "end_time": "2024-09-04T18:15:09.303919Z",
          "start_time": "2024-09-04T18:15:09.290986Z"
        },
        "id": "1a98dc7e"
      },
      "outputs": [],
      "source": [
        "lastNames = [\"Ibrahim\", \"David\", \"Bob\"]\n",
        "print(len(lastNames))     #similar to the String type, we can use the len() function to count the number of items in a list"
      ]
    },
    {
      "cell_type": "markdown",
      "id": "2af39238",
      "metadata": {
        "id": "2af39238"
      },
      "source": [
        "A list can contain different data types:"
      ]
    },
    {
      "cell_type": "code",
      "execution_count": null,
      "id": "fa747330",
      "metadata": {
        "ExecuteTime": {
          "end_time": "2024-09-04T18:14:44.428595Z",
          "start_time": "2024-09-04T18:14:44.413756Z"
        },
        "id": "fa747330"
      },
      "outputs": [],
      "source": [
        "mylist = [\"Amin\", 26, 26.55, True, [1, 2]]\n",
        "print(len(mylist))"
      ]
    },
    {
      "cell_type": "markdown",
      "id": "77144e0f",
      "metadata": {
        "id": "77144e0f"
      },
      "source": [
        "Just like Strings,lists maintain the order of items based on their position within the list. This means that items are **indexed starting from 0** and can be **accessed/modified** by referring to the index number."
      ]
    },
    {
      "cell_type": "code",
      "execution_count": null,
      "id": "32f29c53",
      "metadata": {
        "ExecuteTime": {
          "end_time": "2024-09-04T18:15:12.071902Z",
          "start_time": "2024-09-04T18:15:12.054128Z"
        },
        "id": "32f29c53"
      },
      "outputs": [],
      "source": [
        "print(lastNames[1])"
      ]
    },
    {
      "cell_type": "code",
      "execution_count": null,
      "id": "888b4742",
      "metadata": {
        "ExecuteTime": {
          "end_time": "2024-09-04T18:15:21.533467Z",
          "start_time": "2024-09-04T18:15:21.527393Z"
        },
        "id": "888b4742"
      },
      "outputs": [],
      "source": [
        "lastNames[1] = \"Mohammed\"\n",
        "print(lastNames)"
      ]
    },
    {
      "cell_type": "markdown",
      "id": "f133697e",
      "metadata": {
        "id": "f133697e"
      },
      "source": [
        "## List Methods\n",
        "\n",
        "Python provides a set of built-in methods for working with lists. Much like with string methods, you can access these methods using the dot (`.`) operator.\n",
        "\n",
        "|Method     |Description                                                                  |\n",
        "| :-        | :-                                                                          |\n",
        "|append()\t|Adds an element at the end of the list                                       |\n",
        "|clear()\t|Removes all the elements from the list                                       |\n",
        "|copy()\t    |Returns a copy of the list                                                   |\n",
        "|count()\t|Returns the of times a specified value occurs in a list                      |\n",
        "|extend()\t|Add the elements of a list (or any iterable), to the end of the current list |\n",
        "|index()\t|Searches the tuple for a specified value and returns the position of where it was found |\n",
        "|insert()\t|Adds an element at the specified position                                    |\n",
        "|pop()\t    |Removes the element at the specified position                                |\n",
        "|remove()\t|Removes the item with the specified value                                    |\n",
        "|reverse()\t|Reverses the order of the list                                               |\n",
        "|sort()\t    |Sorts the list                                                               |"
      ]
    },
    {
      "cell_type": "code",
      "execution_count": null,
      "id": "4f81b20f",
      "metadata": {
        "ExecuteTime": {
          "end_time": "2024-09-04T18:29:52.951706Z",
          "start_time": "2024-09-04T18:29:52.934345Z"
        },
        "id": "4f81b20f"
      },
      "outputs": [],
      "source": [
        "lastNames = [\"Ibrahim\", \"David\", \"Bob\"]\n",
        "lastNames"
      ]
    },
    {
      "cell_type": "code",
      "execution_count": null,
      "id": "0484dfa0",
      "metadata": {
        "id": "0484dfa0"
      },
      "outputs": [],
      "source": [
        "lastNames.append(\"David\") #Adds the string \"David\" at the end of the list\n",
        "lastNames"
      ]
    },
    {
      "cell_type": "code",
      "execution_count": null,
      "id": "38ef28ab",
      "metadata": {
        "ExecuteTime": {
          "end_time": "2024-09-04T18:17:41.990141Z",
          "start_time": "2024-09-04T18:17:41.982088Z"
        },
        "id": "38ef28ab"
      },
      "outputs": [],
      "source": [
        "lastNames.reverse() #Reverses the order of the list\n",
        "lastNames"
      ]
    },
    {
      "cell_type": "code",
      "execution_count": null,
      "id": "cec2dd64",
      "metadata": {
        "ExecuteTime": {
          "end_time": "2024-09-04T18:17:59.273471Z",
          "start_time": "2024-09-04T18:17:59.263531Z"
        },
        "id": "cec2dd64"
      },
      "outputs": [],
      "source": [
        "lastNames.sort() #Sorts the list ascending order\n",
        "lastNames"
      ]
    },
    {
      "cell_type": "code",
      "execution_count": null,
      "id": "a9300c65",
      "metadata": {
        "ExecuteTime": {
          "end_time": "2024-09-04T18:18:25.434464Z",
          "start_time": "2024-09-04T18:18:25.425449Z"
        },
        "scrolled": true,
        "id": "a9300c65"
      },
      "outputs": [],
      "source": [
        "lastNames.sort(reverse=True) #Sorts the list descending order\n",
        "lastNames"
      ]
    },
    {
      "cell_type": "code",
      "execution_count": null,
      "id": "cc198a0e",
      "metadata": {
        "ExecuteTime": {
          "end_time": "2024-09-04T18:24:55.956978Z",
          "start_time": "2024-09-04T18:24:55.949088Z"
        },
        "id": "cc198a0e"
      },
      "outputs": [],
      "source": [
        "lastNames.pop(1) #Removes the element at the specified position\n",
        "lastNames"
      ]
    },
    {
      "cell_type": "code",
      "execution_count": null,
      "id": "491a2ec3",
      "metadata": {
        "ExecuteTime": {
          "end_time": "2024-09-04T18:25:01.311596Z",
          "start_time": "2024-09-04T18:25:01.302593Z"
        },
        "scrolled": true,
        "id": "491a2ec3"
      },
      "outputs": [],
      "source": [
        "lastNames.pop() #If no index specified, it removes the last element of the list\n",
        "lastNames"
      ]
    },
    {
      "cell_type": "markdown",
      "id": "6840f27f",
      "metadata": {
        "id": "6840f27f"
      },
      "source": [
        "# Tuples\n",
        "\n",
        "A tuple is a collection that is **ordered**, **immutable**, and allows **duplicate values**. Tuples are created using round (`()`) brackets."
      ]
    },
    {
      "cell_type": "code",
      "execution_count": null,
      "id": "7bdf53f2",
      "metadata": {
        "id": "7bdf53f2"
      },
      "outputs": [],
      "source": [
        "myTuple = (\"apple\", \"banana\", \"cherry\", \"apple\", \"cherry\")\n",
        "print(myTuple)"
      ]
    },
    {
      "cell_type": "markdown",
      "id": "177aa807",
      "metadata": {
        "id": "177aa807"
      },
      "source": [
        "A tuple can contain different data types:"
      ]
    },
    {
      "cell_type": "code",
      "execution_count": null,
      "id": "3eb22bd2",
      "metadata": {
        "id": "3eb22bd2"
      },
      "outputs": [],
      "source": [
        "myTuple = (\"Amin\", 26, 26.55, True, (1, 2))\n",
        "print(myTuple)"
      ]
    },
    {
      "cell_type": "markdown",
      "id": "b58fcad6",
      "metadata": {
        "id": "b58fcad6"
      },
      "source": [
        "Just like lists, tuples items are indexed and you can access them by referring to the index number."
      ]
    },
    {
      "cell_type": "code",
      "execution_count": null,
      "id": "dcdd5915",
      "metadata": {
        "id": "dcdd5915"
      },
      "outputs": [],
      "source": [
        "print(myTuple[0])"
      ]
    },
    {
      "cell_type": "code",
      "execution_count": null,
      "id": "a8e3dcbe",
      "metadata": {
        "id": "a8e3dcbe"
      },
      "outputs": [],
      "source": [
        "print(myTuple[1:4]) #Starting index 1, ending at 3"
      ]
    },
    {
      "cell_type": "markdown",
      "id": "0a026974",
      "metadata": {
        "id": "0a026974"
      },
      "source": [
        "You can use the `len` function to determine the numeber of itmes in a tuple."
      ]
    },
    {
      "cell_type": "code",
      "execution_count": null,
      "id": "055ec42c",
      "metadata": {
        "id": "055ec42c"
      },
      "outputs": [],
      "source": [
        "print(len(myTuple))"
      ]
    },
    {
      "cell_type": "markdown",
      "id": "368ab91a",
      "metadata": {
        "id": "368ab91a"
      },
      "source": [
        " You can convert tuples into a list, and lists into tuples."
      ]
    },
    {
      "cell_type": "code",
      "execution_count": null,
      "id": "334b59e5",
      "metadata": {
        "ExecuteTime": {
          "end_time": "2024-09-04T18:35:38.813460Z",
          "start_time": "2024-09-04T18:35:38.799468Z"
        },
        "id": "334b59e5"
      },
      "outputs": [],
      "source": [
        "myTuple = (\"Amin\", \"David\")\n",
        "myList = list(myTuple)\n",
        "print(myTuple)\n",
        "print(myList)"
      ]
    },
    {
      "cell_type": "code",
      "execution_count": null,
      "id": "3c68008c",
      "metadata": {
        "ExecuteTime": {
          "end_time": "2024-09-04T18:35:52.911828Z",
          "start_time": "2024-09-04T18:35:52.906850Z"
        },
        "id": "3c68008c"
      },
      "outputs": [],
      "source": [
        "myList = [\"Amin\", \"David\"]\n",
        "myTuple = tuple(myList)\n",
        "print(myList)\n",
        "print(myTuple)"
      ]
    },
    {
      "cell_type": "markdown",
      "id": "79479f08",
      "metadata": {
        "id": "79479f08"
      },
      "source": [
        "## Tuple Methods\n",
        "Python has **two** built-in methods (functions) that you can use on Tuples. Similar to list methods, we use the dot (.) operator to invoke (access) these methods.\n",
        "\n",
        "|Method     |Description                                                                                  |\n",
        "| :-        | :-                                                                                          |\n",
        "|count()\t|Returns the number of times a specified value occurs in a tuple                              |\n",
        "|index()\t|Searches the tuple for a specified value and returns the position of where it is found first |"
      ]
    },
    {
      "cell_type": "code",
      "execution_count": null,
      "id": "576e34c4",
      "metadata": {
        "ExecuteTime": {
          "end_time": "2024-09-04T18:36:57.108479Z",
          "start_time": "2024-09-04T18:36:57.102495Z"
        },
        "id": "576e34c4"
      },
      "outputs": [],
      "source": [
        "lastNames = (\"Ibrahim\", \"David\", \"Bob\", \"Ibrahim\")\n",
        "print(lastNames.count(\"Ibrahim\"))"
      ]
    },
    {
      "cell_type": "code",
      "execution_count": null,
      "id": "51a23ced",
      "metadata": {
        "ExecuteTime": {
          "end_time": "2024-09-04T18:37:38.083013Z",
          "start_time": "2024-09-04T18:37:38.070051Z"
        },
        "id": "51a23ced"
      },
      "outputs": [],
      "source": [
        "print(lastNames.index(\"Ibrahim\"))"
      ]
    },
    {
      "cell_type": "markdown",
      "id": "3bea5ee1",
      "metadata": {
        "id": "3bea5ee1"
      },
      "source": [
        "# Sets\n",
        "A set is a collection of **unordered** and **immutable** values. Sets **do NOT allow duplicate values**. Sets are created using curly (`{}`) brackets."
      ]
    },
    {
      "cell_type": "code",
      "execution_count": null,
      "id": "830dee0b",
      "metadata": {
        "ExecuteTime": {
          "end_time": "2024-09-04T18:43:16.436779Z",
          "start_time": "2024-09-04T18:43:16.421877Z"
        },
        "id": "830dee0b"
      },
      "outputs": [],
      "source": [
        "mySet = {\"Apple\", \"Orange\", \"Banana\", \"Apple\"}\n",
        "print(mySet)"
      ]
    },
    {
      "cell_type": "markdown",
      "id": "c7108889",
      "metadata": {
        "id": "c7108889"
      },
      "source": [
        "You can use the `len` function to determine the numeber of itmes in a set."
      ]
    },
    {
      "cell_type": "code",
      "execution_count": null,
      "id": "1aeeb0c8",
      "metadata": {
        "ExecuteTime": {
          "end_time": "2024-09-04T18:43:19.208342Z",
          "start_time": "2024-09-04T18:43:19.202621Z"
        },
        "id": "1aeeb0c8"
      },
      "outputs": [],
      "source": [
        "print(len(mySet))"
      ]
    },
    {
      "cell_type": "markdown",
      "id": "fe6d5f3e",
      "metadata": {
        "id": "fe6d5f3e"
      },
      "source": [
        "A set can contain different data types:"
      ]
    },
    {
      "cell_type": "code",
      "execution_count": null,
      "id": "a832d4f3",
      "metadata": {
        "ExecuteTime": {
          "end_time": "2024-09-04T18:43:36.390634Z",
          "start_time": "2024-09-04T18:43:36.380632Z"
        },
        "id": "a832d4f3"
      },
      "outputs": [],
      "source": [
        "mySet = {\"Amin\", 26, 26.55, True, (1, 2)}\n",
        "print(mySet)"
      ]
    },
    {
      "cell_type": "markdown",
      "id": "80f548f2",
      "metadata": {
        "id": "80f548f2"
      },
      "source": [
        "## Set Methods\n",
        "Python has a set of built-in methods (functions) that you can use on sets. Similar to list methods, we use the dot (`.`) operator to invoke (access) these methods.\n",
        "\n",
        "|Method                         |Description                                                                    |\n",
        "| :-                            | :-                                                                            |\n",
        "|add()\t                        |Adds an element to the set                                                     |\n",
        "|clear()\t                    |Removes all the elements from the set                                          |\n",
        "|copy()\t                        |Returns a copy of the set                                                      |\n",
        "|difference()\t                |Returns a set containing the difference between two or more sets               |\n",
        "|difference_update()\t        |Removes the items in this set that are also included in another specified set |\n",
        "|discard()\t                    |Removes the specified item                                                      |\n",
        "|intersection()\t                |Returns a set, that is the intersection of two other sets                      |\n",
        "|intersection_update()\t        |Removes the items in this set that are not present in other, specified set(s)  |\n",
        "|isdisjoint()\t                |Returns whether two sets have a intersection or not                            |\n",
        "|issubset()\t                    |Returns whether another set contains this set or not                           |\n",
        "|issuperset()\t                |Returns whether this set contains another set or not                           |\n",
        "|pop()\t                        |Removes the last element from the set                                          |\n",
        "|remove()\t                    |Removes the specified element                                                  |\n",
        "|symmetric_difference()\t        |Returns a set with the symmetric differences of two sets                       |\n",
        "|symmetric_difference_update()\t|Inserts the symmetric differences from this set and another                    |\n",
        "|union()\t                    |Return a set containing the union of sets                                      |\n",
        "|update()\t                    |Update the set with the union of this set and others                           |\n"
      ]
    },
    {
      "cell_type": "code",
      "execution_count": null,
      "id": "3567d416",
      "metadata": {
        "ExecuteTime": {
          "end_time": "2024-09-04T18:47:55.415929Z",
          "start_time": "2024-09-04T18:47:55.398974Z"
        },
        "id": "3567d416"
      },
      "outputs": [],
      "source": [
        "mySet = {\"Amin\", 26, 26.55, True, (1, 2)}\n",
        "mySet"
      ]
    },
    {
      "cell_type": "markdown",
      "id": "70d5cfb7",
      "metadata": {
        "id": "70d5cfb7"
      },
      "source": [
        "The main difference between the `remove()` and `discard()` method is that the `remove()` method will give an error if the specified item does not exist, and the `discard()` method will not."
      ]
    },
    {
      "cell_type": "code",
      "execution_count": null,
      "id": "442c898d",
      "metadata": {
        "ExecuteTime": {
          "end_time": "2024-09-04T18:48:05.075354Z",
          "start_time": "2024-09-04T18:48:05.047173Z"
        },
        "id": "442c898d"
      },
      "outputs": [],
      "source": [
        "mySet.remove(26)\n",
        "mySet"
      ]
    },
    {
      "cell_type": "code",
      "execution_count": null,
      "id": "da22124f",
      "metadata": {
        "ExecuteTime": {
          "end_time": "2024-09-04T18:48:11.782624Z",
          "start_time": "2024-09-04T18:48:11.773602Z"
        },
        "id": "da22124f"
      },
      "outputs": [],
      "source": [
        "mySet.discard(True)\n",
        "mySet"
      ]
    },
    {
      "cell_type": "code",
      "execution_count": null,
      "id": "69455053",
      "metadata": {
        "id": "69455053"
      },
      "outputs": [],
      "source": [
        "set1 = {1, 2, 3, \"A\", \"B\", \"C\"}\n",
        "set2 = {1, 2, \"A\", \"D\"}\n",
        "print(\"The union of set1 and set2\")\n",
        "print(set1.union(set2))\n",
        "\n",
        "print(\"The intersection of set1 and set2\")\n",
        "print(set1.intersection(set2))\n",
        "\n",
        "print(\"The set differnce of set1 and set2\")\n",
        "print(set1.difference(set2))\n",
        "\n",
        "print(\"The set differnce of set2 and set1\")\n",
        "print(set2.difference(set1))"
      ]
    },
    {
      "cell_type": "markdown",
      "id": "ab79126f",
      "metadata": {
        "id": "ab79126f"
      },
      "source": [
        "# Dictionaries\n",
        "\n",
        "A dictionary is a collection of **ordered** and **mutable values** stored in **key:value** pairs. Dictionaries **allow duplicate** values but **do not permit duplicate keys**. They are created using curly brackets `{}`."
      ]
    },
    {
      "cell_type": "code",
      "execution_count": null,
      "id": "2aed3f7e",
      "metadata": {
        "ExecuteTime": {
          "end_time": "2024-09-04T18:57:49.843439Z",
          "start_time": "2024-09-04T18:57:49.837728Z"
        },
        "id": "2aed3f7e"
      },
      "outputs": [],
      "source": [
        "personalInfo = {\n",
        "\"Name\": \"Amin Ibrahim\",\n",
        "\"Age\": 25,\n",
        "\"Height\": 1.75\n",
        "}\n",
        "print(personalInfo)"
      ]
    },
    {
      "cell_type": "markdown",
      "id": "d002948b",
      "metadata": {
        "id": "d002948b"
      },
      "source": [
        "In a dictionary, you use a key inside square brackets `[]` to access or modify its associated value."
      ]
    },
    {
      "cell_type": "code",
      "execution_count": null,
      "id": "75b2b1f4",
      "metadata": {
        "id": "75b2b1f4"
      },
      "outputs": [],
      "source": [
        "print(personalInfo[\"Name\"])"
      ]
    },
    {
      "cell_type": "code",
      "execution_count": null,
      "id": "e5702773",
      "metadata": {
        "id": "e5702773"
      },
      "outputs": [],
      "source": [
        "personalInfo[\"Age\"] = 36\n",
        "print(personalInfo)"
      ]
    },
    {
      "cell_type": "markdown",
      "id": "4d28ccc4",
      "metadata": {
        "id": "4d28ccc4"
      },
      "source": [
        "We can add additional key:value pair into an existing dictionary."
      ]
    },
    {
      "cell_type": "code",
      "execution_count": null,
      "id": "c852b2ea",
      "metadata": {
        "ExecuteTime": {
          "end_time": "2024-09-04T18:58:20.054816Z",
          "start_time": "2024-09-04T18:58:20.046838Z"
        },
        "id": "c852b2ea"
      },
      "outputs": [],
      "source": [
        "personalInfo[\"Hobby\"] = [\"Swimming\", \"Running\", \"Reading books\"]\n",
        "print(personalInfo)"
      ]
    },
    {
      "cell_type": "markdown",
      "id": "1c3eab11",
      "metadata": {
        "id": "1c3eab11"
      },
      "source": [
        "## Dictionary Methods\n",
        "Python has a set of built-in methods (functions) that you can use on Dictionaries. Similar to list methods, we use the dot (.) operator to invoke (access) these methods.\n",
        "\n",
        "|Method        |Description                                                  |\n",
        "| :-           | :-                                                          |\n",
        "|clear()\t   |Removes all the elements from the dictionary                 |\n",
        "|copy()\t       |Returns a copy of the dictionary                             |              \n",
        "|fromkeys()\t   |Creates a dictionary with specified keys and a specific value|\n",
        "|get()\t       |Returns the value of the specified key                       |\n",
        "|items()\t   |Returns a list containing a tuple for each key value pair    |\n",
        "|keys()\t       |Returns a list containing the dictionary's keys              |\n",
        "|pop()\t       |Removes the element with the specified key                   |\n",
        "|popitem()\t   |Removes the last inserted key-value pair                     |\n",
        "|setdefault()  |Returns the value of the specified key. If the key does not exist: insert the key, with the specified value|\n",
        "|update()\t   |Updates the dictionary with the specified key-value pairs    |\n",
        "|values()\t   |Returns a list of all the values in the dictionary           |"
      ]
    },
    {
      "cell_type": "markdown",
      "id": "2d1984a0",
      "metadata": {
        "id": "2d1984a0"
      },
      "source": [
        "The `fromkeys()` method in Python is used with dictionaries to create a **new dictionary** with specified keys, **all initialized to the same value**."
      ]
    },
    {
      "cell_type": "code",
      "execution_count": null,
      "id": "ca3fc9c2",
      "metadata": {
        "ExecuteTime": {
          "end_time": "2024-09-04T19:03:13.530845Z",
          "start_time": "2024-09-04T19:03:13.511857Z"
        },
        "id": "ca3fc9c2"
      },
      "outputs": [],
      "source": [
        "keys = ('key1', 'key2', 'key3')\n",
        "values = 123\n",
        "myDict = dict.fromkeys(keys, values)\n",
        "print(myDict)"
      ]
    },
    {
      "cell_type": "code",
      "execution_count": null,
      "id": "af1449bf",
      "metadata": {
        "ExecuteTime": {
          "end_time": "2024-09-04T19:03:17.651902Z",
          "start_time": "2024-09-04T19:03:17.636554Z"
        },
        "id": "af1449bf"
      },
      "outputs": [],
      "source": [
        "myDict[\"key1\"] = 55   #Change the value of key1 to 55\n",
        "print(myDict.items()) #Print a list containing a tuple for each key value pair"
      ]
    },
    {
      "cell_type": "code",
      "execution_count": null,
      "id": "b0be1f2d",
      "metadata": {
        "id": "b0be1f2d"
      },
      "outputs": [],
      "source": [
        "print(myDict.values()) #Print a list of all the values in the dictionary"
      ]
    },
    {
      "cell_type": "code",
      "execution_count": null,
      "id": "8596b2b8",
      "metadata": {
        "id": "8596b2b8"
      },
      "outputs": [],
      "source": [
        "print(myDict.keys()) #Print a list containing the dictionary's keys"
      ]
    },
    {
      "cell_type": "code",
      "execution_count": null,
      "id": "49ca88be",
      "metadata": {
        "scrolled": true,
        "id": "49ca88be"
      },
      "outputs": [],
      "source": [
        "myDict.update({\"key3\": 66}) #Update the dictionary with the specified key-value pairs\n",
        "print(myDict)"
      ]
    }
  ],
  "metadata": {
    "kernelspec": {
      "display_name": "Python 3 (ipykernel)",
      "language": "python",
      "name": "python3"
    },
    "language_info": {
      "codemirror_mode": {
        "name": "ipython",
        "version": 3
      },
      "file_extension": ".py",
      "mimetype": "text/x-python",
      "name": "python",
      "nbconvert_exporter": "python",
      "pygments_lexer": "ipython3",
      "version": "3.12.4"
    },
    "toc": {
      "base_numbering": 1,
      "nav_menu": {},
      "number_sections": true,
      "sideBar": true,
      "skip_h1_title": false,
      "title_cell": "Table of Contents",
      "title_sidebar": "Contents",
      "toc_cell": false,
      "toc_position": {},
      "toc_section_display": true,
      "toc_window_display": false
    },
    "varInspector": {
      "cols": {
        "lenName": 16,
        "lenType": 16,
        "lenVar": 40
      },
      "kernels_config": {
        "python": {
          "delete_cmd_postfix": "",
          "delete_cmd_prefix": "del ",
          "library": "var_list.py",
          "varRefreshCmd": "print(var_dic_list())"
        },
        "r": {
          "delete_cmd_postfix": ") ",
          "delete_cmd_prefix": "rm(",
          "library": "var_list.r",
          "varRefreshCmd": "cat(var_dic_list()) "
        }
      },
      "types_to_exclude": [
        "module",
        "function",
        "builtin_function_or_method",
        "instance",
        "_Feature"
      ],
      "window_display": false
    },
    "colab": {
      "provenance": [],
      "include_colab_link": true
    }
  },
  "nbformat": 4,
  "nbformat_minor": 5
}